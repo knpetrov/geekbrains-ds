{
 "cells": [
  {
   "cell_type": "markdown",
   "id": "95ddd2f5",
   "metadata": {
    "cellId": "bvwrpk94f79wh4cyrd8b5"
   },
   "source": [
    "Задание №1"
   ]
  },
  {
   "cell_type": "code",
   "execution_count": null,
   "id": "87541eed",
   "metadata": {
    "cellId": "0xlwaytzenqrfrtz9pcxoda"
   },
   "outputs": [],
   "source": [
    "import warnings\n",
    "warnings.filterwarnings('ignore')\n",
    "import pandas as pd\n",
    "import numpy as np\n",
    "from sklearn.datasets import load_boston\n",
    "from sklearn.model_selection import train_test_split\n",
    "\n",
    "boston = load_boston()"
   ]
  },
  {
   "cell_type": "code",
   "execution_count": null,
   "id": "16f6f9f4",
   "metadata": {
    "cellId": "ijztytvbdaabefb8029we"
   },
   "outputs": [],
   "source": [
    "X = pd.DataFrame(boston[\"data\"], columns=boston[\"feature_names\"])\n",
    "X"
   ]
  },
  {
   "cell_type": "code",
   "execution_count": null,
   "id": "b5ba12ca",
   "metadata": {
    "cellId": "ift3l3v4iubcugp4ehd5"
   },
   "outputs": [],
   "source": [
    "Y = pd.DataFrame( boston[\"target\"], columns=[\"price\"])\n",
    "Y"
   ]
  },
  {
   "cell_type": "code",
   "execution_count": null,
   "id": "683e5f0a",
   "metadata": {
    "cellId": "re6tpmmhdpe8vrcx5etj9"
   },
   "outputs": [],
   "source": [
    "X_train, X_test, Y_train, Y_test = train_test_split(X, Y, test_size=0.3, random_state=42)"
   ]
  },
  {
   "cell_type": "code",
   "execution_count": null,
   "id": "485e6ffe",
   "metadata": {
    "cellId": "vscqrklsfwonvueqda5xcb"
   },
   "outputs": [],
   "source": [
    "X_train"
   ]
  },
  {
   "cell_type": "code",
   "execution_count": null,
   "id": "c33840a3",
   "metadata": {
    "cellId": "gie5j2ankzrjtk2io29qv"
   },
   "outputs": [],
   "source": [
    "from sklearn.linear_model import LinearRegression\n",
    "lr = LinearRegression()\n",
    "lr.fit(X_train, Y_train)"
   ]
  },
  {
   "cell_type": "code",
   "execution_count": null,
   "id": "41a6de3c",
   "metadata": {
    "cellId": "i5ki9pxqn8iftiaceigv96"
   },
   "outputs": [],
   "source": [
    "Y_pred = lr.predict(X_test)\n",
    "\n",
    "check = pd.DataFrame({\n",
    "    \"Y_test\": Y_test[\"price\"],\n",
    "    \"Y_pred\": Y_pred.flatten(),\n",
    "})\n",
    "\n",
    "check.head(20)"
   ]
  },
  {
   "cell_type": "code",
   "execution_count": 25,
   "id": "448e6577",
   "metadata": {
    "cellId": "wv3ybpseieo4w9wdy53rp7"
   },
   "outputs": [
    {
     "data": {
      "text/plain": [
       "0.7112260057484974"
      ]
     },
     "execution_count": 25,
     "metadata": {},
     "output_type": "execute_result"
    }
   ],
   "source": [
    "from sklearn.metrics import r2_score\n",
    "r2_score(Y_test, Y_pred)"
   ]
  },
  {
   "cell_type": "markdown",
   "id": "9c6df2bc",
   "metadata": {
    "cellId": "ecsqpb7ikp85xcfou0yaeb"
   },
   "source": [
    "Задание №2"
   ]
  },
  {
   "cell_type": "code",
   "execution_count": null,
   "id": "4b33536c",
   "metadata": {
    "cellId": "2tbbr0z3ofnxidkbim2zn"
   },
   "outputs": [],
   "source": [
    "from sklearn.ensemble import RandomForestRegressor\n",
    "model = RandomForestRegressor(n_estimators=1000, max_depth=12, random_state=42)\n",
    "model.fit(X_train, Y_train.values[:, 0])"
   ]
  },
  {
   "cell_type": "code",
   "execution_count": null,
   "id": "30526b69",
   "metadata": {
    "cellId": "xj4petvk7nawwqkoq4vx4"
   },
   "outputs": [],
   "source": [
    "Y_pred_RFR = model.predict(X_test)\n",
    "check_RFR = pd.DataFrame({\n",
    "    \"Y_test\": Y_test[\"price\"], \n",
    "    \"Y_pred_RFR\": Y_pred_RFR.flatten()})\n",
    "\n",
    "check_RFR"
   ]
  },
  {
   "cell_type": "code",
   "execution_count": 24,
   "id": "9a88068f",
   "metadata": {
    "cellId": "fk4bqsq0h3mnacwxt10mj"
   },
   "outputs": [
    {
     "data": {
      "text/plain": [
       "0.8749965273218174"
      ]
     },
     "execution_count": 24,
     "metadata": {},
     "output_type": "execute_result"
    }
   ],
   "source": [
    "r2_score(Y_test, Y_pred_RFR)"
   ]
  },
  {
   "cell_type": "markdown",
   "id": "12abc6b2",
   "metadata": {
    "cellId": "n0tmzv44cwrglyzvzp4d3w"
   },
   "source": [
    "Вывод: модель №2 работает лучше."
   ]
  }
 ],
 "metadata": {
  "language_info": {
   "codemirror_mode": {
    "name": "ipython",
    "version": 3
   },
   "file_extension": ".py",
   "mimetype": "text/x-python",
   "name": "python",
   "nbconvert_exporter": "python",
   "pygments_lexer": "ipython3",
   "version": "3.7.7"
  },
  "notebookId": "953fb6a6-5709-4553-bf4c-8987be39930a",
  "notebookPath": "Untitled.ipynb"
 },
 "nbformat": 4,
 "nbformat_minor": 5
}
