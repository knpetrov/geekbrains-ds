{
 "cells": [
  {
   "cell_type": "markdown",
   "id": "f265b13f",
   "metadata": {
    "cellId": "s61l1q915qfjl1ezxfn36"
   },
   "source": [
    "Задание 1\n",
    "Импортируйте библиотеку Numpy и дайте ей псевдоним np.\n",
    "Создайте массив Numpy под названием a размером 5x2, то есть состоящий из 5 строк и 2 столбцов. Первый столбец должен содержать числа 1, 2, 3, 3, 1, а второй - числа 6, 8, 11, 10, 7. \n",
    "Будем считать, что каждый столбец - это признак, а строка - наблюдение. Затем найдите среднее значение по каждому признаку, используя метод mean массива Numpy. \n",
    "Результат запишите в массив mean_a, в нем должно быть 2 элемента.\n"
   ]
  },
  {
   "cell_type": "code",
   "execution_count": 8,
   "id": "e0ed1d5a",
   "metadata": {
    "cellId": "v1r3wwcc3d59tgmoxbdow"
   },
   "outputs": [
    {
     "name": "stdout",
     "output_type": "stream",
     "text": [
      "[2.  8.4]\n"
     ]
    }
   ],
   "source": [
    "import numpy as np\n",
    "a = np.array([[1,6],\n",
    "              [2,8],\n",
    "              [3,11],\n",
    "              [3,10],\n",
    "              [1,7]\n",
    "              ])\n",
    "\n",
    "mean_a = np.mean(a, axis = 0)\n",
    "print(mean_a)"
   ]
  },
  {
   "cell_type": "markdown",
   "id": "b66a6f6b",
   "metadata": {
    "cellId": "breu6caznr8r29u3yglb3"
   },
   "source": [
    "Задание 2\n",
    "Вычислите массив a_centered, отняв от значений массива “а” средние значения соответствующих признаков, содержащиеся в массиве mean_a. \n",
    "Вычисление должно производиться в одно действие. Получившийся массив должен иметь размер 5x2."
   ]
  },
  {
   "cell_type": "code",
   "execution_count": 7,
   "id": "5d79fa54",
   "metadata": {
    "cellId": "abh8jlyuafabgsevp29ncm"
   },
   "outputs": [
    {
     "data": {
      "text/plain": [
       "array([[-1. , -2.4],\n",
       "       [ 0. , -0.4],\n",
       "       [ 1. ,  2.6],\n",
       "       [ 1. ,  1.6],\n",
       "       [-1. , -1.4]])"
      ]
     },
     "execution_count": 7,
     "metadata": {},
     "output_type": "execute_result"
    }
   ],
   "source": [
    "a_centered = a - mean_a\n",
    "print(a_centered)"
   ]
  },
  {
   "cell_type": "markdown",
   "id": "68fda355",
   "metadata": {
    "cellId": "u2zfw3kp3wso2aj84f5yn"
   },
   "source": [
    "Задание 3\n",
    "Найдите скалярное произведение столбцов массива a_centered. \n",
    "В результате должна получиться величина a_centered_sp. \n",
    "Затем поделите a_centered_sp на N-1, где N - число наблюдений."
   ]
  },
  {
   "cell_type": "code",
   "execution_count": 6,
   "id": "70930bf1",
   "metadata": {
    "cellId": "fp5q5i0m29rmt5fh1jwbq"
   },
   "outputs": [
    {
     "name": "stdout",
     "output_type": "stream",
     "text": [
      "8.0\n",
      "2.0\n"
     ]
    }
   ],
   "source": [
    "a_centered_sp = a_centered[:, 0].dot(a_centered[:, 1])\n",
    "print(a_centered_sp)\n",
    "print(a_centered_sp/(a.shape[0] - 1))"
   ]
  },
  {
   "cell_type": "markdown",
   "id": "cb8a5409",
   "metadata": {
    "cellId": "26ows2tdy8hqxe44scp9zm"
   },
   "source": [
    "Задание №1\n",
    "Импортируйте библиотеку Pandas и дайте ей псевдоним pd. Создайте датафрейм authors со столбцами author_id и author_name, в которых соответственно содержатся данные: [1, 2, 3] и ['Тургенев', 'Чехов', 'Островский'].\n",
    "Затем создайте датафрейм book cо столбцами author_id, book_title и price, в которых соответственно содержатся данные:  \n",
    "[1, 1, 1, 2, 2, 3, 3],\n",
    "['Отцы и дети', 'Рудин', 'Дворянское гнездо', 'Толстый и тонкий', 'Дама с собачкой', 'Гроза', 'Таланты и поклонники'],\n",
    "[450, 300, 350, 500, 450, 370, 290].\n"
   ]
  },
  {
   "cell_type": "code",
   "execution_count": 9,
   "id": "7c6db8f5",
   "metadata": {
    "cellId": "yq4qpzuod6anscsr28xtmc"
   },
   "outputs": [
    {
     "name": "stdout",
     "output_type": "stream",
     "text": [
      "   author_id author_name\n",
      "0          1    Тургенев\n",
      "1          2       Чехов\n",
      "2          3  Островский\n"
     ]
    }
   ],
   "source": [
    "import pandas as pd\n",
    "authors = pd.DataFrame({'author_id':[1,2,3],\n",
    "                        'author_name':['Тургенев','Чехов','Островский']\n",
    "                       })\n",
    "print(authors)"
   ]
  },
  {
   "cell_type": "code",
   "execution_count": 10,
   "id": "29cfa262",
   "metadata": {
    "cellId": "01ngnmmgl479tx4qqldfru"
   },
   "outputs": [
    {
     "name": "stdout",
     "output_type": "stream",
     "text": [
      "   author_id            book_title  price\n",
      "0          1           Отцы и дети    450\n",
      "1          1                 Рудин    300\n",
      "2          1     Дворянское гнездо    350\n",
      "3          2      Толстый и тонкий    500\n",
      "4          2       Дама с собачкой    450\n",
      "5          3                 Гроза    370\n",
      "6          3  Таланты и поклонники    290\n"
     ]
    }
   ],
   "source": [
    "book = pd.DataFrame({'author_id':[1, 1, 1, 2, 2, 3, 3], \n",
    "                     'book_title':['Отцы и дети','Рудин','Дворянское гнездо','Толстый и тонкий','Дама с собачкой','Гроза','Таланты и поклонники'],\n",
    "                     'price':[450, 300, 350, 500, 450, 370, 290]\n",
    "                    })\n",
    "print(book)"
   ]
  },
  {
   "cell_type": "markdown",
   "id": "4829231a",
   "metadata": {
    "cellId": "uk7sy3rg8sof719ijxqnf"
   },
   "source": [
    "Задание №2\n",
    "Получите датафрейм authors_price, соединив датафреймы authors и books по полю author_id."
   ]
  },
  {
   "cell_type": "code",
   "execution_count": 11,
   "id": "73812ff7",
   "metadata": {
    "cellId": "ic9lnfdn33gml0k62dl95"
   },
   "outputs": [
    {
     "name": "stdout",
     "output_type": "stream",
     "text": [
      "   author_id author_name            book_title  price\n",
      "0          1    Тургенев           Отцы и дети    450\n",
      "1          1    Тургенев                 Рудин    300\n",
      "2          1    Тургенев     Дворянское гнездо    350\n",
      "3          2       Чехов      Толстый и тонкий    500\n",
      "4          2       Чехов       Дама с собачкой    450\n",
      "5          3  Островский                 Гроза    370\n",
      "6          3  Островский  Таланты и поклонники    290\n"
     ]
    }
   ],
   "source": [
    "authors_price = pd.merge(authors,book,on='author_id')\n",
    "print(authors_price)"
   ]
  },
  {
   "cell_type": "markdown",
   "id": "f1d25661",
   "metadata": {
    "cellId": "oemoeupq83img7bsos1nn8"
   },
   "source": [
    "Задание №3\n",
    "Создайте датафрейм top5, в котором содержатся строки из authors_price с пятью самыми дорогими книгами."
   ]
  },
  {
   "cell_type": "code",
   "execution_count": 12,
   "id": "07f7998d",
   "metadata": {
    "cellId": "gmx5u7i0qgu1r25dhaq1yzi"
   },
   "outputs": [
    {
     "name": "stdout",
     "output_type": "stream",
     "text": [
      "   author_id author_name         book_title  price\n",
      "3          2       Чехов   Толстый и тонкий    500\n",
      "0          1    Тургенев        Отцы и дети    450\n",
      "4          2       Чехов    Дама с собачкой    450\n",
      "5          3  Островский              Гроза    370\n",
      "2          1    Тургенев  Дворянское гнездо    350\n"
     ]
    }
   ],
   "source": [
    "top5 = authors_price.sort_values(by=\"price\",ascending=False).head(5)\n",
    "print(top5)"
   ]
  },
  {
   "cell_type": "markdown",
   "id": "a02be6f8",
   "metadata": {
    "cellId": "hsqgs6kytjkq04whpmefy"
   },
   "source": [
    "Задание №4\n",
    "Создайте датафрейм authors_stat на основе информации из authors_price. В датафрейме authors_stat должны быть четыре столбца:\n",
    "author_name, min_price, max_price и mean_price,\n",
    "в которых должны содержаться соответственно имя автора, минимальная, максимальная и средняя цена на книги этого автора."
   ]
  },
  {
   "cell_type": "code",
   "execution_count": 26,
   "id": "8e5d0aab",
   "metadata": {
    "cellId": "aoip46omact0lusa54y0bi"
   },
   "outputs": [
    {
     "name": "stdout",
     "output_type": "stream",
     "text": [
      "             min_price  max_price  mean_price\n",
      "author_name                                  \n",
      "Тургенев           290        370  330.000000\n",
      "Чехов              300        450  366.666667\n",
      "Островский         450        500  475.000000\n"
     ]
    }
   ],
   "source": [
    "authors_stat = pd.DataFrame({'author_name':authors_price['author_name'].unique(),\n",
    "                             'min_price':authors_price.groupby('author_name')['price'].min(),\n",
    "                             'max_price':authors_price.groupby('author_name')['price'].max(),\n",
    "                             'mean_price':authors_price.groupby('author_name')['price'].mean()\n",
    "                            })\n",
    "\n",
    "b = authors_stat.set_index('author_name')\n",
    "print(b)"
   ]
  },
  {
   "cell_type": "code",
   "execution_count": null,
   "id": "1516dd07",
   "metadata": {
    "cellId": "737gkfct07bf95lx3b3dp9"
   },
   "outputs": [],
   "source": []
  }
 ],
 "metadata": {
  "language_info": {
   "codemirror_mode": {
    "name": "ipython",
    "version": 3
   },
   "file_extension": ".py",
   "mimetype": "text/x-python",
   "name": "python",
   "nbconvert_exporter": "python",
   "pygments_lexer": "ipython3",
   "version": "3.7.7"
  },
  "notebookId": "8ae23899-0369-456c-a8d1-48c1408e0ee5",
  "notebookPath": "Untitled.ipynb"
 },
 "nbformat": 4,
 "nbformat_minor": 5
}
